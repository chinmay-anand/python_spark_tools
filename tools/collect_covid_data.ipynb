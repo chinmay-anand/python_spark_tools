{
 "cells": [
  {
   "cell_type": "markdown",
   "metadata": {},
   "source": [
    "##### Collecting Latest COVID-19 data"
   ]
  },
  {
   "cell_type": "code",
   "execution_count": null,
   "metadata": {},
   "outputs": [],
   "source": [
    "# This block enables multiple outputs or print statements from a single jupyter notebook cell\n",
    "\n",
    "from IPython.core.interactiveshell import InteractiveShell\n",
    "InteractiveShell.ast_node_interactivity = \"all\""
   ]
  },
  {
   "cell_type": "markdown",
   "metadata": {},
   "source": [
    "<pre>\n",
    "OPTIONAL:  (can be used in requests.get())\n",
    "<i>\n",
    "header = {\n",
    "  \"User-Agent\": \"Mozilla/5.0 (X11; Linux x86_64) AppleWebKit/537.36 (KHTML, like Gecko) Chrome/50.0.2661.75 Safari/537.36\", \"X-Requested-With\": \"XMLHttpRequest\"\n",
    "}\n",
    "r = requests.get(url, header)\n",
    "</i></pre>"
   ]
  },
  {
   "cell_type": "code",
   "execution_count": null,
   "metadata": {},
   "outputs": [],
   "source": [
    "import requests\n",
    "import pandas as pd\n",
    "\n",
    "def getRenamedColumnList():\n",
    "    renamedColumns = ['#', 'Country', 'Total Cases', 'New Cases', 'Total Deaths', 'New Deaths',\n",
    "           'Total Recovered', 'Active Cases', 'Serious,Critical',\n",
    "           'Tot Cases/1M pop', 'Deaths/1M pop', 'Total Tests', 'Tests/1M pop', 'Population']\n",
    "    # Added first and last columns (# and Population) on 17-May-2020\n",
    "    # As the number of fields keep changing over time, we need to rectify this method regularly\n",
    "    return renamedColumns\n",
    "    "
   ]
  },
  {
   "cell_type": "code",
   "execution_count": null,
   "metadata": {},
   "outputs": [],
   "source": [
    "def getCovidDataFromWorldometers(url):\n",
    "    resp = requests.get(url)\n",
    "    dfs = pd.read_html(resp.text)\n",
    "    df = dfs[0] #The first html table contains our data\n",
    "    print(df.columns)\n",
    "    df.columns = getRenamedColumnList()\n",
    "\n",
    "    #Remove comma and plus characters from 'New Cases' and 'New Deaths' field as comma and plus appear there\n",
    "    #Also convert the column types from object to float (trying to convert to 'int' will result in error for NaN values)\n",
    "    if (df['New Cases'].dtype == 'object'):\n",
    "        df['New Cases'] = df['New Cases'].str.replace(',', '').str.replace('+', '')\n",
    "        df['New Cases'] = df['New Cases'].astype(str).astype(float)\n",
    "\n",
    "    if (df['New Deaths'].dtype == 'object'):\n",
    "        df['New Deaths'] = df['New Deaths'].str.replace(',', '').str.replace('+', '')\n",
    "        df['New Deaths'] = df['New Deaths'].astype(str).astype(float)\n",
    "\n",
    "    #Remove the last record (Total:) as it is already available at top with 'World'\n",
    "    df = df[df['Country']!='Total:']\n",
    "\n",
    "    #Sort the dataframe in decreasing order of Tocal Cases\n",
    "    df = df.sort_values('Total Cases', ascending=False)\n",
    "    return df;"
   ]
  },
  {
   "cell_type": "code",
   "execution_count": null,
   "metadata": {},
   "outputs": [],
   "source": [
    "def main():\n",
    "    covid_url = 'https://www.worldometers.info/coronavirus/'\n",
    "    # covid_india_url = 'https://www.mygov.in/corona-data/covid19-statewise-status'\n",
    "\n",
    "    dfCovid = getCovidDataFromWorldometers(covid_url)\n",
    "    # Output the data as an xlsx file skipping the row index 0,1,2,...\n",
    "    dfCovid.to_excel('Covid19-Data-Worldwide.xlsx', sheet_name='COVID-DATA', index=False);"
   ]
  },
  {
   "cell_type": "code",
   "execution_count": null,
   "metadata": {},
   "outputs": [],
   "source": [
    "if __name__ == '__main__':\n",
    "    main()"
   ]
  },
  {
   "cell_type": "code",
   "execution_count": null,
   "metadata": {},
   "outputs": [],
   "source": [
    "dfCovid.dtypes"
   ]
  },
  {
   "cell_type": "code",
   "execution_count": null,
   "metadata": {},
   "outputs": [],
   "source": [
    "%run collect_covid_data.py"
   ]
  }
 ],
 "metadata": {
  "kernelspec": {
   "display_name": "Python 3",
   "language": "python",
   "name": "python3"
  },
  "language_info": {
   "codemirror_mode": {
    "name": "ipython",
    "version": 3
   },
   "file_extension": ".py",
   "mimetype": "text/x-python",
   "name": "python",
   "nbconvert_exporter": "python",
   "pygments_lexer": "ipython3",
   "version": "3.7.4"
  }
 },
 "nbformat": 4,
 "nbformat_minor": 2
}
