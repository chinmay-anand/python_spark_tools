{
 "cells": [
  {
   "cell_type": "markdown",
   "metadata": {},
   "source": [
    "#### Some Text Formatting\n",
    "Examples of fonts in markup.md \n",
    "\n",
    "*italic*(with SINGLE STAR), **bold** (with DOUBLE STARS), _italic_ (with UNDERSCORE),  ~~scratched~~ (with TILDE)\n",
    "\n",
    "#### Writing scientific equations with Latex\n",
    "* Refer: https://www.tutorialspoint.com/tex_commands/hash.htm\n",
    "* Refer: https://latex.wikia.org/wiki/Sum-class_symbol\n",
    "* https://www.tug.org/texlive/doc/texlive-en/texlive-en.html#tlportable\n",
    "* https://www.overleaf.com/learn/latex/Integrals,_sums_and_limits\n",
    "* https://link.springer.com/content/pdf/bbm%3A978-3-319-23796-1%2F1.pdf (Symbol Table)\n",
    "* https://www.kwasan.kyoto-u.ac.jp/solarb6/usinggraphicx.pdf\n",
    "\n",
    "###### Some important LATEX equations:\n",
    "%%latex is optional\n",
    "\n",
    "<table border=1  width=\"80%\">\n",
    "    <tr>\n",
    "        <td>$E = mc^2$</td>\n",
    "        <td>$e^{i \\pi} = -1 $</td>\n",
    "        <td>$$\\int_v\\frac{dy}{dx} * \\iint_w\\frac{d^2y}{dx^2} $$</td>\n",
    "    </tr>\n",
    "    <tr>\n",
    "        <td>$\\sum\\limits_{i=1}^n i = \\frac{n(n+1)}{2}$</td>\n",
    "        <td>$\\sum\\limits_{i=1}^n i^2 = \\frac{n(n+1)(2n+1)}{6}$</td>\n",
    "        <td>$\\sum\\limits_{I=1, J=0}^{I=20, J=10}\\frac{I^2+1}{J^3+3}$</td>\n",
    "    </tr>\n",
    "    <tr>\n",
    "        <td>$B^C = A  \\impliedby log_B A = C$</td>\n",
    "        <td>$ln A = log_e A$</td>\n",
    "        <td>$log_B A = \\frac{log A}{log B} = \\frac {log_{10} A}{log_{10} B}$</td>\n",
    "    </tr>\n",
    "    <tr>\n",
    "        <td>SAMPLE: $d^2 = (a+b)^2) + C^2*(T^2+2) $</td>\n",
    "        <td>$\\implies C = \\sqrt[2]{\\frac{d^2 - (a+b)^2)}{T^2+2}}$ :SAMPLE</td>\n",
    "        <td>$\\Pi \\pi \\sum \\Sigma \\propto \\alpha \\beta \\Gamma \\gamma \\Delta \\Lambda \\lambda \\circlearrowleft \\circlearrowright$</td>\n",
    "    </tr>\n",
    "    <tr>\n",
    "        <td>$\\rotatebox[origin=c]{180}{$\\leadsto$}$</td>\n",
    "        <td>TEST</td>\n",
    "        <td>TEST</td>\n",
    "    </tr>\n",
    "</table>\n"
   ]
  },
  {
   "cell_type": "markdown",
   "metadata": {},
   "source": [
    "# $\\Pi \\pi \\sum \\Sigma \\propto \\alpha \\beta \\Gamma \\gamma \\Delta \\Lambda \\lambda \\circlearrowleft \\circlearrowright$\n",
    "# $\\frac{log_ab^c}{log_bd}\\sqrt[3]{\\frac{d^2 - (a+b)^2)}{T^2+2} * \\int_v\\frac{dy}{dx} * \\iint_w\\frac{d^2y}{dx^2} }$\n",
    "# $ \\hat{A} A^\\verb!^! \\widehat{A}A{\\wedge}B$"
   ]
  },
  {
   "cell_type": "markdown",
   "metadata": {},
   "source": [
    "$%%latex\n",
    "\\textit{usepackage} \\textbf{graphicx}\n",
    "\\rotatebox[origin=c]{90}{\\pi \\sum\\frac{log_ab^c}{log_bd}}$"
   ]
  },
  {
   "cell_type": "markdown",
   "metadata": {},
   "source": [
    "#### Enabling Jupyter shell to print multiple results form a single shell"
   ]
  },
  {
   "cell_type": "code",
   "execution_count": null,
   "metadata": {},
   "outputs": [],
   "source": [
    "## Enable the shell to print multiple results (instead of only the last result)\n",
    "\n",
    "from IPython.core.interactiveshell import InteractiveShell\n",
    "InteractiveShell.ast_node_interactivity = \"all\""
   ]
  },
  {
   "cell_type": "code",
   "execution_count": null,
   "metadata": {},
   "outputs": [],
   "source": []
  },
  {
   "cell_type": "code",
   "execution_count": null,
   "metadata": {},
   "outputs": [],
   "source": []
  },
  {
   "cell_type": "code",
   "execution_count": null,
   "metadata": {},
   "outputs": [],
   "source": [
    "import sys\n",
    "# insert at 1, 0 is the script path (or '' in REPL)\n",
    "sys.path.insert(1, '/tree/exercises_udemy/tools')"
   ]
  },
  {
   "cell_type": "code",
   "execution_count": null,
   "metadata": {},
   "outputs": [],
   "source": []
  },
  {
   "cell_type": "code",
   "execution_count": null,
   "metadata": {},
   "outputs": [],
   "source": [
    "from chintools import printHelpOnFormattedText"
   ]
  },
  {
   "cell_type": "code",
   "execution_count": null,
   "metadata": {},
   "outputs": [],
   "source": [
    "pwd"
   ]
  },
  {
   "cell_type": "code",
   "execution_count": null,
   "metadata": {},
   "outputs": [],
   "source": []
  }
 ],
 "metadata": {
  "kernelspec": {
   "display_name": "Python 3",
   "language": "python",
   "name": "python3"
  },
  "language_info": {
   "codemirror_mode": {
    "name": "ipython",
    "version": 3
   },
   "file_extension": ".py",
   "mimetype": "text/x-python",
   "name": "python",
   "nbconvert_exporter": "python",
   "pygments_lexer": "ipython3",
   "version": "3.7.4"
  }
 },
 "nbformat": 4,
 "nbformat_minor": 2
}
