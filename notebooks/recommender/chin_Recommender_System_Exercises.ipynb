{
 "cells": [
  {
   "cell_type": "markdown",
   "metadata": {},
   "source": [
    "# RECOMMENDER SYSTEMS"
   ]
  },
  {
   "cell_type": "markdown",
   "metadata": {},
   "source": [
    "###### Refereces: \n",
    "<b>\n",
    "<a href=\"https://towardsdatascience.com/how-to-build-a-simple-recommender-system-in-python-375093c3fb7d\">How to build a Simple Recommender System in Python. ~ towardsdatascience.com</a>\n",
    "\n",
    "<a href=\"https://towardsdatascience.com/beginners-recommendation-systems-with-python-ee1b08d2efb6\">Beginner’s Recommendation Systems with Python (with the TMDB 5000 movies dataset) ~ towardsdatascience.com</a>\n",
    "\n",
    "<a href=\"https://www.analyticsvidhya.com/blog/2018/06/comprehensive-guide-recommendation-engine-python/\">Comprehensive Guide to build a Recommendation Engine from scratch (in Python)  ~ Analytics Vidya</a>\n",
    "\n",
    "<a href=\"https://realpython.com/build-recommendation-engine-collaborative-filtering/\">Build a Recommendation Engine With Collaborative Filtering ~ RealPython.com</a>\n",
    "\n",
    "<a href=\"https://www.datacamp.com/community/tutorials/recommender-systems-python\">Recommender Systems in Python: Beginner Tutorial ~datacamp</a>\n",
    "\n",
    "<a href=\"https://www.kaggle.com/gspmoreira/recommender-systems-in-python-101\">Recommender Systems in Python 101 ~ Kaggle</a>\n",
    "\n",
    "<a href=\"https://www.google.com/search?q=how+to+build+a+great+recommnder+system+using+python\">Google search for \"how to build a great recommnder system using python\"</a>\n",
    "\n",
    "</b>"
   ]
  },
  {
   "cell_type": "code",
   "execution_count": null,
   "metadata": {},
   "outputs": [],
   "source": []
  },
  {
   "cell_type": "code",
   "execution_count": 1,
   "metadata": {},
   "outputs": [],
   "source": [
    "import sys\n",
    "sys.path.append('C:/Users/nishita/exercises_udemy/MyTrials/tools')\n",
    "from chinmay_tools import *"
   ]
  },
  {
   "cell_type": "code",
   "execution_count": null,
   "metadata": {},
   "outputs": [],
   "source": []
  },
  {
   "cell_type": "markdown",
   "metadata": {},
   "source": [
    "STEPS\n",
    "* Load the dataset check the fields (recommender algo ALS - ALternating Least Squares needs few columns )\n",
    "* 3 most important parameters are: userCol, itemCol, ratingCol in addition to maxIter and regParam\n",
    "fields (For more details check https://spark.apache.org/docs/2.2.0/ml-collaborative-filtering.html)\n",
    "    * For input data we don't need 'features' vectorized column and hence no vectorAssembler needed.\n",
    "    * Parameters to 'usrCol' and 'itemCol' serve as input. Compare these two against 'features' vector column in case of regression or classifiation algorithms.\n",
    "    * 'ratingCol' is similar to label field (in regression or classification algorithms). Here the actual or observed rating is supplied which is given by the user (userCol=) to the movie (itemCol-)\n",
    "* Process is the same .fit(train_data) on the ALS model that gets us the fitted_model i.e.als_model\n",
    "* fitted_model.transform(test_Data) returns predictionsDF dataframe which gives us the predictions about the user rating to movies in test_data based on the training given to the machine on the training data movies.\n",
    "* Evaluate by measuring metrics - RegressionEvaluator(metricName='rmse', ratingCol='rating', predictionCol='prediction').evaluate(predictionsDF)\n",
    "* In this result \"predictionsDF\" dataframe the field 'prediction' tells the recommended ratings for respective movies\n",
    "* To give recommendation to a specific user (i.e. unlabeled data),\n",
    "    * To simulate unlabeled data we may filter the test dataframe to pick all the fields except the field used for 'ratingCol' i.e. 'rating' field) for that specific userid and let us store that object in a sDF called 'single_user'.\n",
    "    * Transform this unlabeled data using trained_moded, i.e. do a fitted_model<b>.transform</b>(single_user) to get a prediction column in the result.\n",
    "    * sort the result by decreasing order of 'prediction' values { result.orderBy('prediction', ascending='false') }\n",
    "    * The movie with highest prediction is the recommended movie for the user."
   ]
  },
  {
   "cell_type": "code",
   "execution_count": null,
   "metadata": {},
   "outputs": [],
   "source": []
  },
  {
   "cell_type": "markdown",
   "metadata": {},
   "source": [
    "## Refer: Consulting Project - Recommender Systems.ipynb"
   ]
  },
  {
   "cell_type": "markdown",
   "metadata": {},
   "source": [
    "A new online food delivery company is trying to differentiate itself by recommending new meals to customers based off of other customers likings.\n",
    "\n",
    "We need to build them a recommendation system whose final result should be in the form of a function that can take in a Spark DataFrame of a single customer's ratings for various meals and output their top 3 suggested meals."
   ]
  },
  {
   "cell_type": "code",
   "execution_count": null,
   "metadata": {},
   "outputs": [],
   "source": []
  },
  {
   "cell_type": "markdown",
   "metadata": {},
   "source": [
    "* There is no data for meal preference by movie audience, which we need to fake / simulate\n",
    "* We will assign some food preferences to audiences who saw the movies upto movieId 31, for rest we will set np.nan"
   ]
  },
  {
   "cell_type": "code",
   "execution_count": 20,
   "metadata": {},
   "outputs": [],
   "source": [
    "import pandas as pd\n",
    "import numpy as np"
   ]
  },
  {
   "cell_type": "code",
   "execution_count": 21,
   "metadata": {},
   "outputs": [],
   "source": [
    "df_movie = pd.read_csv('Recommender_Systems/movielens_ratings.csv')"
   ]
  },
  {
   "cell_type": "code",
   "execution_count": 22,
   "metadata": {},
   "outputs": [],
   "source": [
    "df_movie['mealskew'] = df_movie['movieId'].apply(lambda id: np.nan if id > 31 else id)"
   ]
  },
  {
   "cell_type": "code",
   "execution_count": 36,
   "metadata": {},
   "outputs": [],
   "source": [
    "mealmap = { \n",
    "    0. : \"Cheese Pizza\",   \n",
    "    1. : \"Burrito\",   \n",
    "    2. : \"Chicken Curry\",   \n",
    "    3. : \"Spicy Chicken Nuggest\",   \n",
    "    4. : \"Pretzels and Cheese Plate\",   \n",
    "    5. : \"Hamburger\",   \n",
    "    6. : \"Spicy Pork Sliders\",  \n",
    "    7. : \"Nachos\",  \n",
    "    8. : \"Chicken Chow Mein\",  \n",
    "    9. : \"Taco Surprise\",  \n",
    "    10. : \"Roasted Eggplant \",  \n",
    "    11. : \"Meatloaf\",  \n",
    "    12. : \"Ceaser Salad\",  \n",
    "    13. : \"Mandarin Chicken PLate\",  \n",
    "    14. : \"Kung Pao Chicken\",\n",
    "    15. : \"BBQ Ribs\",  \n",
    "    16. : \"Fried Rice Plate\",  \n",
    "    17. : \"Sushi Plate\",  \n",
    "    18. : \"Pepperoni Pizza\",  \n",
    "    19. : \"Cheesesteak Sandwhich\",  \n",
    "    20. : \"Southwest Salad\",  \n",
    "    21. : \"Lasagna\",  \n",
    "    22. : \"Pulled Pork Plate\",   \n",
    "    23. : \"Orange Chicken\",\n",
    "    24. : \"Chili\",  \n",
    "    25.: \"Roast Beef Sandwich\",\n",
    "    26. : \"Spicy Beef Plate\",  \n",
    "    27. : \"Salmon with Mashed Potatoes\",  \n",
    "    28. : \"Penne Tomatoe Pasta\",  \n",
    "    29. : \"Pork Sliders\",  \n",
    "    30. : \"Vietnamese Sandwich\",  \n",
    "    31. : \"Chicken Wrap\"\n",
    "#    ,  \n",
    "#    np.nan: \"Cowboy Burger\"\n",
    "}"
   ]
  },
  {
   "cell_type": "code",
   "execution_count": 38,
   "metadata": {},
   "outputs": [],
   "source": [
    "df_movie['mealname'] = df_movie['mealskew'].map(mealmap, na_action='ignore')"
   ]
  },
  {
   "cell_type": "code",
   "execution_count": 40,
   "metadata": {},
   "outputs": [
    {
     "data": {
      "text/html": [
       "<div>\n",
       "<style scoped>\n",
       "    .dataframe tbody tr th:only-of-type {\n",
       "        vertical-align: middle;\n",
       "    }\n",
       "\n",
       "    .dataframe tbody tr th {\n",
       "        vertical-align: top;\n",
       "    }\n",
       "\n",
       "    .dataframe thead th {\n",
       "        text-align: right;\n",
       "    }\n",
       "</style>\n",
       "<table border=\"1\" class=\"dataframe\">\n",
       "  <thead>\n",
       "    <tr style=\"text-align: right;\">\n",
       "      <th></th>\n",
       "      <th>movieId</th>\n",
       "      <th>rating</th>\n",
       "      <th>userId</th>\n",
       "      <th>mealskew</th>\n",
       "      <th>mealname</th>\n",
       "    </tr>\n",
       "  </thead>\n",
       "  <tbody>\n",
       "    <tr>\n",
       "      <td>0</td>\n",
       "      <td>2</td>\n",
       "      <td>3.0</td>\n",
       "      <td>0</td>\n",
       "      <td>2.0</td>\n",
       "      <td>Chicken Curry</td>\n",
       "    </tr>\n",
       "    <tr>\n",
       "      <td>1</td>\n",
       "      <td>3</td>\n",
       "      <td>1.0</td>\n",
       "      <td>0</td>\n",
       "      <td>3.0</td>\n",
       "      <td>Spicy Chicken Nuggest</td>\n",
       "    </tr>\n",
       "    <tr>\n",
       "      <td>2</td>\n",
       "      <td>5</td>\n",
       "      <td>2.0</td>\n",
       "      <td>0</td>\n",
       "      <td>5.0</td>\n",
       "      <td>Hamburger</td>\n",
       "    </tr>\n",
       "    <tr>\n",
       "      <td>3</td>\n",
       "      <td>9</td>\n",
       "      <td>4.0</td>\n",
       "      <td>0</td>\n",
       "      <td>9.0</td>\n",
       "      <td>Taco Surprise</td>\n",
       "    </tr>\n",
       "    <tr>\n",
       "      <td>4</td>\n",
       "      <td>11</td>\n",
       "      <td>1.0</td>\n",
       "      <td>0</td>\n",
       "      <td>11.0</td>\n",
       "      <td>Meatloaf</td>\n",
       "    </tr>\n",
       "    <tr>\n",
       "      <td>...</td>\n",
       "      <td>...</td>\n",
       "      <td>...</td>\n",
       "      <td>...</td>\n",
       "      <td>...</td>\n",
       "      <td>...</td>\n",
       "    </tr>\n",
       "    <tr>\n",
       "      <td>1496</td>\n",
       "      <td>90</td>\n",
       "      <td>4.0</td>\n",
       "      <td>29</td>\n",
       "      <td>NaN</td>\n",
       "      <td>NaN</td>\n",
       "    </tr>\n",
       "    <tr>\n",
       "      <td>1497</td>\n",
       "      <td>93</td>\n",
       "      <td>1.0</td>\n",
       "      <td>29</td>\n",
       "      <td>NaN</td>\n",
       "      <td>NaN</td>\n",
       "    </tr>\n",
       "    <tr>\n",
       "      <td>1498</td>\n",
       "      <td>94</td>\n",
       "      <td>4.0</td>\n",
       "      <td>29</td>\n",
       "      <td>NaN</td>\n",
       "      <td>NaN</td>\n",
       "    </tr>\n",
       "    <tr>\n",
       "      <td>1499</td>\n",
       "      <td>97</td>\n",
       "      <td>1.0</td>\n",
       "      <td>29</td>\n",
       "      <td>NaN</td>\n",
       "      <td>NaN</td>\n",
       "    </tr>\n",
       "    <tr>\n",
       "      <td>1500</td>\n",
       "      <td>99</td>\n",
       "      <td>1.0</td>\n",
       "      <td>29</td>\n",
       "      <td>NaN</td>\n",
       "      <td>NaN</td>\n",
       "    </tr>\n",
       "  </tbody>\n",
       "</table>\n",
       "<p>1501 rows × 5 columns</p>\n",
       "</div>"
      ],
      "text/plain": [
       "      movieId  rating  userId  mealskew               mealname\n",
       "0           2     3.0       0       2.0          Chicken Curry\n",
       "1           3     1.0       0       3.0  Spicy Chicken Nuggest\n",
       "2           5     2.0       0       5.0              Hamburger\n",
       "3           9     4.0       0       9.0          Taco Surprise\n",
       "4          11     1.0       0      11.0               Meatloaf\n",
       "...       ...     ...     ...       ...                    ...\n",
       "1496       90     4.0      29       NaN                    NaN\n",
       "1497       93     1.0      29       NaN                    NaN\n",
       "1498       94     4.0      29       NaN                    NaN\n",
       "1499       97     1.0      29       NaN                    NaN\n",
       "1500       99     1.0      29       NaN                    NaN\n",
       "\n",
       "[1501 rows x 5 columns]"
      ]
     },
     "execution_count": 40,
     "metadata": {},
     "output_type": "execute_result"
    }
   ],
   "source": [
    "df_movie"
   ]
  },
  {
   "cell_type": "code",
   "execution_count": 41,
   "metadata": {},
   "outputs": [
    {
     "data": {
      "text/html": [
       "<div>\n",
       "<style scoped>\n",
       "    .dataframe tbody tr th:only-of-type {\n",
       "        vertical-align: middle;\n",
       "    }\n",
       "\n",
       "    .dataframe tbody tr th {\n",
       "        vertical-align: top;\n",
       "    }\n",
       "\n",
       "    .dataframe thead th {\n",
       "        text-align: right;\n",
       "    }\n",
       "</style>\n",
       "<table border=\"1\" class=\"dataframe\">\n",
       "  <thead>\n",
       "    <tr style=\"text-align: right;\">\n",
       "      <th></th>\n",
       "      <th>movieId</th>\n",
       "      <th>rating</th>\n",
       "      <th>userId</th>\n",
       "      <th>mealskew</th>\n",
       "    </tr>\n",
       "  </thead>\n",
       "  <tbody>\n",
       "    <tr>\n",
       "      <td>movieId</td>\n",
       "      <td>1.000000</td>\n",
       "      <td>0.036569</td>\n",
       "      <td>0.003267</td>\n",
       "      <td>1.000000</td>\n",
       "    </tr>\n",
       "    <tr>\n",
       "      <td>rating</td>\n",
       "      <td>0.036569</td>\n",
       "      <td>1.000000</td>\n",
       "      <td>0.056411</td>\n",
       "      <td>0.131044</td>\n",
       "    </tr>\n",
       "    <tr>\n",
       "      <td>userId</td>\n",
       "      <td>0.003267</td>\n",
       "      <td>0.056411</td>\n",
       "      <td>1.000000</td>\n",
       "      <td>0.017888</td>\n",
       "    </tr>\n",
       "    <tr>\n",
       "      <td>mealskew</td>\n",
       "      <td>1.000000</td>\n",
       "      <td>0.131044</td>\n",
       "      <td>0.017888</td>\n",
       "      <td>1.000000</td>\n",
       "    </tr>\n",
       "  </tbody>\n",
       "</table>\n",
       "</div>"
      ],
      "text/plain": [
       "           movieId    rating    userId  mealskew\n",
       "movieId   1.000000  0.036569  0.003267  1.000000\n",
       "rating    0.036569  1.000000  0.056411  0.131044\n",
       "userId    0.003267  0.056411  1.000000  0.017888\n",
       "mealskew  1.000000  0.131044  0.017888  1.000000"
      ]
     },
     "execution_count": 41,
     "metadata": {},
     "output_type": "execute_result"
    }
   ],
   "source": [
    "df_movie.corr()"
   ]
  },
  {
   "cell_type": "code",
   "execution_count": 43,
   "metadata": {},
   "outputs": [
    {
     "data": {
      "text/html": [
       "<div>\n",
       "<style scoped>\n",
       "    .dataframe tbody tr th:only-of-type {\n",
       "        vertical-align: middle;\n",
       "    }\n",
       "\n",
       "    .dataframe tbody tr th {\n",
       "        vertical-align: top;\n",
       "    }\n",
       "\n",
       "    .dataframe thead th {\n",
       "        text-align: right;\n",
       "    }\n",
       "</style>\n",
       "<table border=\"1\" class=\"dataframe\">\n",
       "  <thead>\n",
       "    <tr style=\"text-align: right;\">\n",
       "      <th></th>\n",
       "      <th>count</th>\n",
       "      <th>mean</th>\n",
       "      <th>std</th>\n",
       "      <th>min</th>\n",
       "      <th>25%</th>\n",
       "      <th>50%</th>\n",
       "      <th>75%</th>\n",
       "      <th>max</th>\n",
       "    </tr>\n",
       "  </thead>\n",
       "  <tbody>\n",
       "    <tr>\n",
       "      <td>movieId</td>\n",
       "      <td>1501.0</td>\n",
       "      <td>49.405730</td>\n",
       "      <td>28.937034</td>\n",
       "      <td>0.0</td>\n",
       "      <td>24.0</td>\n",
       "      <td>50.0</td>\n",
       "      <td>74.0</td>\n",
       "      <td>99.0</td>\n",
       "    </tr>\n",
       "    <tr>\n",
       "      <td>rating</td>\n",
       "      <td>1501.0</td>\n",
       "      <td>1.774151</td>\n",
       "      <td>1.187276</td>\n",
       "      <td>1.0</td>\n",
       "      <td>1.0</td>\n",
       "      <td>1.0</td>\n",
       "      <td>2.0</td>\n",
       "      <td>5.0</td>\n",
       "    </tr>\n",
       "    <tr>\n",
       "      <td>userId</td>\n",
       "      <td>1501.0</td>\n",
       "      <td>14.383744</td>\n",
       "      <td>8.591040</td>\n",
       "      <td>0.0</td>\n",
       "      <td>7.0</td>\n",
       "      <td>14.0</td>\n",
       "      <td>22.0</td>\n",
       "      <td>29.0</td>\n",
       "    </tr>\n",
       "    <tr>\n",
       "      <td>mealskew</td>\n",
       "      <td>486.0</td>\n",
       "      <td>15.502058</td>\n",
       "      <td>9.250634</td>\n",
       "      <td>0.0</td>\n",
       "      <td>7.0</td>\n",
       "      <td>15.0</td>\n",
       "      <td>23.0</td>\n",
       "      <td>31.0</td>\n",
       "    </tr>\n",
       "  </tbody>\n",
       "</table>\n",
       "</div>"
      ],
      "text/plain": [
       "           count       mean        std  min   25%   50%   75%   max\n",
       "movieId   1501.0  49.405730  28.937034  0.0  24.0  50.0  74.0  99.0\n",
       "rating    1501.0   1.774151   1.187276  1.0   1.0   1.0   2.0   5.0\n",
       "userId    1501.0  14.383744   8.591040  0.0   7.0  14.0  22.0  29.0\n",
       "mealskew   486.0  15.502058   9.250634  0.0   7.0  15.0  23.0  31.0"
      ]
     },
     "execution_count": 43,
     "metadata": {},
     "output_type": "execute_result"
    }
   ],
   "source": [
    "df_movie.describe().transpose()"
   ]
  },
  {
   "cell_type": "markdown",
   "metadata": {},
   "source": [
    "###### Now we have meal data with movie ratings \n",
    "* We assume that the 'rating' field is actually given by users for meal against the mealid identified as 'mealskew'.\n",
    "* Let us use spark to do the following objective\n",
    "\n",
    "We need to build them a recommendation system whose final result should be in the form of a function that can take in a Spark DataFrame of a single customer's ratings for various meals and output their top 3 suggested meals."
   ]
  },
  {
   "cell_type": "code",
   "execution_count": 44,
   "metadata": {},
   "outputs": [],
   "source": [
    "df_movie.to_csv('my_meal_info.csv', index=False)"
   ]
  },
  {
   "cell_type": "code",
   "execution_count": 45,
   "metadata": {},
   "outputs": [],
   "source": [
    "from pyspark.sql import SparkSession\n",
    "\n",
    "spark2 = SparkSession.builder.appName('reco_sys_2').getOrCreate()"
   ]
  },
  {
   "cell_type": "code",
   "execution_count": 46,
   "metadata": {},
   "outputs": [],
   "source": [
    "sdf_meal = spark2.read.csv('my_meal_info.csv', inferSchema=True, header=True)"
   ]
  },
  {
   "cell_type": "code",
   "execution_count": 55,
   "metadata": {},
   "outputs": [],
   "source": [
    "sdf_meal_no_na = sdf_meal.na.drop()"
   ]
  },
  {
   "cell_type": "code",
   "execution_count": 56,
   "metadata": {},
   "outputs": [],
   "source": [
    "train_data, test_data = sdf_meal_no_na.randomSplit([0.7,0.3])"
   ]
  },
  {
   "cell_type": "code",
   "execution_count": 57,
   "metadata": {},
   "outputs": [
    {
     "name": "stdout",
     "output_type": "stream",
     "text": [
      "+-------+------------------+------------------+------------------+------------------+-------------------+\n",
      "|summary|           movieId|            rating|            userId|          mealskew|           mealname|\n",
      "+-------+------------------+------------------+------------------+------------------+-------------------+\n",
      "|  count|               349|               349|               349|               349|                349|\n",
      "|   mean|15.744985673352435|  1.66189111747851|14.899713467048711|15.744985673352435|               null|\n",
      "| stddev| 9.308614185803332|1.1143050407059607| 8.620926486224164| 9.308614185803332|               null|\n",
      "|    min|                 0|               1.0|                 0|               0.0|           BBQ Ribs|\n",
      "|    max|                31|               5.0|                29|              31.0|Vietnamese Sandwich|\n",
      "+-------+------------------+------------------+------------------+------------------+-------------------+\n",
      "\n",
      "+-------+------------------+------------------+------------------+------------------+-------------------+\n",
      "|summary|           movieId|            rating|            userId|          mealskew|           mealname|\n",
      "+-------+------------------+------------------+------------------+------------------+-------------------+\n",
      "|  count|               137|               137|               137|               137|                137|\n",
      "|   mean|14.883211678832117| 1.927007299270073|13.364963503649635|14.883211678832117|               null|\n",
      "| stddev| 9.105642799151797|1.3208455207374596| 8.334792344010493| 9.105642799151797|               null|\n",
      "|    min|                 0|               1.0|                 0|               0.0|           BBQ Ribs|\n",
      "|    max|                31|               5.0|                29|              31.0|Vietnamese Sandwich|\n",
      "+-------+------------------+------------------+------------------+------------------+-------------------+\n",
      "\n"
     ]
    }
   ],
   "source": [
    "train_data.describe().show()\n",
    "test_data.describe().show()"
   ]
  },
  {
   "cell_type": "code",
   "execution_count": 58,
   "metadata": {},
   "outputs": [
    {
     "name": "stdout",
     "output_type": "stream",
     "text": [
      "root\n",
      " |-- movieId: integer (nullable = true)\n",
      " |-- rating: double (nullable = true)\n",
      " |-- userId: integer (nullable = true)\n",
      " |-- mealskew: double (nullable = true)\n",
      " |-- mealname: string (nullable = true)\n",
      "\n"
     ]
    }
   ],
   "source": [
    "train_data.printSchema()"
   ]
  },
  {
   "cell_type": "code",
   "execution_count": 59,
   "metadata": {},
   "outputs": [],
   "source": [
    "from pyspark.ml.recommendation import ALS"
   ]
  },
  {
   "cell_type": "markdown",
   "metadata": {},
   "source": [
    "* Assuming that the 'rating' was given by user for the meals identified by 'mealskew'"
   ]
  },
  {
   "cell_type": "code",
   "execution_count": 60,
   "metadata": {},
   "outputs": [],
   "source": [
    "meal_model = ALS(userCol='userId', itemCol='mealskew', ratingCol='rating')"
   ]
  },
  {
   "cell_type": "code",
   "execution_count": 61,
   "metadata": {},
   "outputs": [],
   "source": [
    "meal_model = ALS(userCol='userId', itemCol='mealskew', ratingCol='rating', maxIter=5, regParam=0.01)\n",
    "meal_model = ALS(userCol='userId', itemCol='mealskew', ratingCol='rating')"
   ]
  },
  {
   "cell_type": "markdown",
   "metadata": {},
   "source": [
    "###### Training gives error if null data is there, so I dropped the error data initially itself"
   ]
  },
  {
   "cell_type": "code",
   "execution_count": 63,
   "metadata": {},
   "outputs": [],
   "source": [
    "trained_meal_model = meal_model.fit(train_data)"
   ]
  },
  {
   "cell_type": "code",
   "execution_count": 64,
   "metadata": {},
   "outputs": [
    {
     "name": "stdout",
     "output_type": "stream",
     "text": [
      "+-------+------+------+--------+--------------------+----------+\n",
      "|movieId|rating|userId|mealskew|            mealname|prediction|\n",
      "+-------+------+------+--------+--------------------+----------+\n",
      "|     31|   1.0|     5|    31.0|        Chicken Wrap| 0.5870483|\n",
      "|     31|   1.0|    19|    31.0|        Chicken Wrap|  0.867401|\n",
      "|     31|   1.0|     4|    31.0|        Chicken Wrap| 1.5316031|\n",
      "|     31|   2.0|    25|    31.0|        Chicken Wrap|  1.453381|\n",
      "|     31|   1.0|     0|    31.0|        Chicken Wrap| 1.1751199|\n",
      "|     28|   1.0|     2|    28.0| Penne Tomatoe Pasta|  3.719898|\n",
      "|     26|   1.0|     6|    26.0|    Spicy Beef Plate|0.91234356|\n",
      "|     26|   1.0|    20|    26.0|    Spicy Beef Plate|0.94270444|\n",
      "|     26|   2.0|    25|    26.0|    Spicy Beef Plate| 2.2946508|\n",
      "|     27|   1.0|    13|    27.0|Salmon with Mashe...| 1.2962976|\n",
      "|     27|   5.0|    23|    27.0|Salmon with Mashe...| 2.4648287|\n",
      "|     27|   5.0|    11|    27.0|Salmon with Mashe...| 2.4038906|\n",
      "|     12|   5.0|    28|    12.0|        Ceaser Salad| 1.3580644|\n",
      "|     12|   1.0|    16|    12.0|        Ceaser Salad| 0.9046099|\n",
      "|     12|   1.0|    11|    12.0|        Ceaser Salad|  1.339536|\n",
      "|     12|   1.0|    14|    12.0|        Ceaser Salad| 1.1406926|\n",
      "|     22|   2.0|    27|    22.0|   Pulled Pork Plate| 1.2945256|\n",
      "|     22|   2.0|    12|    22.0|   Pulled Pork Plate| 1.3245131|\n",
      "|     22|   1.0|    13|    22.0|   Pulled Pork Plate|  2.006269|\n",
      "|     22|   1.0|     4|    22.0|   Pulled Pork Plate| 1.4017817|\n",
      "+-------+------+------+--------+--------------------+----------+\n",
      "only showing top 20 rows\n",
      "\n"
     ]
    }
   ],
   "source": [
    "test_predictions = trained_meal_model.transform(test_data)\n",
    "test_predictions.show()"
   ]
  },
  {
   "cell_type": "code",
   "execution_count": 65,
   "metadata": {},
   "outputs": [],
   "source": [
    "from pyspark.ml.evaluation import RegressionEvaluator"
   ]
  },
  {
   "cell_type": "code",
   "execution_count": 66,
   "metadata": {},
   "outputs": [],
   "source": [
    "eval2 = RegressionEvaluator(predictionCol='prediction', labelCol='rating', metricName='rmse')"
   ]
  },
  {
   "cell_type": "code",
   "execution_count": 67,
   "metadata": {},
   "outputs": [
    {
     "name": "stdout",
     "output_type": "stream",
     "text": [
      "Root-mean-square-error=1.330710338865221\n"
     ]
    }
   ],
   "source": [
    "rmse = eval2.evaluate(test_predictions)\n",
    "print(\"Root-mean-square-error=\"+str(rmse))"
   ]
  },
  {
   "cell_type": "code",
   "execution_count": 69,
   "metadata": {},
   "outputs": [
    {
     "name": "stdout",
     "output_type": "stream",
     "text": [
      "root\n",
      " |-- movieId: integer (nullable = true)\n",
      " |-- rating: double (nullable = true)\n",
      " |-- userId: integer (nullable = true)\n",
      " |-- mealskew: double (nullable = true)\n",
      " |-- mealname: string (nullable = true)\n",
      " |-- prediction: float (nullable = false)\n",
      "\n"
     ]
    }
   ],
   "source": [
    "test_predictions.printSchema()"
   ]
  },
  {
   "cell_type": "code",
   "execution_count": 71,
   "metadata": {},
   "outputs": [
    {
     "name": "stdout",
     "output_type": "stream",
     "text": [
      "+-------+------+------+--------+--------------------+----------+\n",
      "|movieId|rating|userId|mealskew|            mealname|prediction|\n",
      "+-------+------+------+--------+--------------------+----------+\n",
      "|     28|   1.0|     2|    28.0| Penne Tomatoe Pasta|  3.719898|\n",
      "|     29|   5.0|     8|    29.0|        Pork Sliders| 3.3049076|\n",
      "|     23|   5.0|    11|    23.0|      Orange Chicken| 2.8809085|\n",
      "|     18|   4.0|    27|    18.0|     Pepperoni Pizza| 2.8471744|\n",
      "|     10|   2.0|    24|    10.0|   Roasted Eggplant | 2.7924786|\n",
      "|     14|   1.0|    12|    14.0|    Kung Pao Chicken|  2.590234|\n",
      "|      8|   1.0|    12|     8.0|   Chicken Chow Mein| 2.5768778|\n",
      "|     13|   4.0|    11|    13.0|Mandarin Chicken ...| 2.5267868|\n",
      "|     22|   1.0|    18|    22.0|   Pulled Pork Plate| 2.5213304|\n",
      "|     27|   5.0|    23|    27.0|Salmon with Mashe...| 2.4648287|\n",
      "|     21|   3.0|    26|    21.0|             Lasagna| 2.4566429|\n",
      "|      2|   1.0|    12|     2.0|       Chicken Curry| 2.4292555|\n",
      "|     24|   5.0|    26|    24.0|               Chili| 2.4173365|\n",
      "|     29|   1.0|    28|    29.0|        Pork Sliders| 2.4100718|\n",
      "|     27|   5.0|    11|    27.0|Salmon with Mashe...| 2.4038906|\n",
      "|     23|   5.0|    26|    23.0|      Orange Chicken| 2.3865156|\n",
      "|     29|   4.0|     7|    29.0|        Pork Sliders| 2.3818486|\n",
      "|     13|   3.0|     5|    13.0|Mandarin Chicken ...| 2.3458648|\n",
      "|      4|   2.0|     1|     4.0|Pretzels and Chee...| 2.3247018|\n",
      "|     26|   2.0|    25|    26.0|    Spicy Beef Plate| 2.2946508|\n",
      "+-------+------+------+--------+--------------------+----------+\n",
      "only showing top 20 rows\n",
      "\n"
     ]
    }
   ],
   "source": [
    "test_predictions.orderBy('prediction', ascending=False).show()"
   ]
  },
  {
   "cell_type": "markdown",
   "metadata": {},
   "source": [
    "###### This orderBy clause is useless, but letus check just for curiosity"
   ]
  },
  {
   "cell_type": "code",
   "execution_count": 76,
   "metadata": {},
   "outputs": [
    {
     "name": "stdout",
     "output_type": "stream",
     "text": [
      "+-------+------+------+--------+--------------------+----------+\n",
      "|movieId|rating|userId|mealskew|            mealname|prediction|\n",
      "+-------+------+------+--------+--------------------+----------+\n",
      "|     29|   5.0|     8|    29.0|        Pork Sliders| 3.3049076|\n",
      "|     23|   5.0|    11|    23.0|      Orange Chicken| 2.8809085|\n",
      "|     27|   5.0|    23|    27.0|Salmon with Mashe...| 2.4648287|\n",
      "|     24|   5.0|    26|    24.0|               Chili| 2.4173365|\n",
      "|     27|   5.0|    11|    27.0|Salmon with Mashe...| 2.4038906|\n",
      "|     23|   5.0|    26|    23.0|      Orange Chicken| 2.3865156|\n",
      "|     30|   5.0|    11|    30.0| Vietnamese Sandwich| 2.2857206|\n",
      "|      7|   5.0|     9|     7.0|              Nachos| 1.7047142|\n",
      "|     12|   5.0|    28|    12.0|        Ceaser Salad| 1.3580644|\n",
      "|     30|   5.0|    22|    30.0| Vietnamese Sandwich|  1.352006|\n",
      "|     25|   5.0|     7|    25.0| Roast Beef Sandwich| 1.2237144|\n",
      "|     17|   5.0|    17|    17.0|         Sushi Plate| 0.8033378|\n",
      "|      7|   5.0|    26|     7.0|              Nachos|  0.742512|\n",
      "|     18|   4.0|    27|    18.0|     Pepperoni Pizza| 2.8471744|\n",
      "|     13|   4.0|    11|    13.0|Mandarin Chicken ...| 2.5267868|\n",
      "|     29|   4.0|     7|    29.0|        Pork Sliders| 2.3818486|\n",
      "|     29|   4.0|     4|    29.0|        Pork Sliders| 1.8081608|\n",
      "|      2|   4.0|    10|     2.0|       Chicken Curry| 1.6778834|\n",
      "|      9|   4.0|     0|     9.0|       Taco Surprise| 1.0265371|\n",
      "|     21|   3.0|    26|    21.0|             Lasagna| 2.4566429|\n",
      "+-------+------+------+--------+--------------------+----------+\n",
      "only showing top 20 rows\n",
      "\n"
     ]
    }
   ],
   "source": [
    "test_predictions.orderBy(test_predictions['rating'].desc(), test_predictions['prediction'].desc()).show()"
   ]
  },
  {
   "cell_type": "markdown",
   "metadata": {},
   "source": [
    "###### There is something serious:\n",
    "* There is a big gap between the 'rating' and 'prediction', we need to take care of that"
   ]
  },
  {
   "cell_type": "code",
   "execution_count": null,
   "metadata": {},
   "outputs": [],
   "source": []
  },
  {
   "cell_type": "code",
   "execution_count": null,
   "metadata": {},
   "outputs": [],
   "source": []
  },
  {
   "cell_type": "markdown",
   "metadata": {},
   "source": [
    "# Refer: Recommender_Code_Along.ipynb"
   ]
  },
  {
   "cell_type": "code",
   "execution_count": 2,
   "metadata": {},
   "outputs": [],
   "source": [
    "from pyspark.sql import SparkSession"
   ]
  },
  {
   "cell_type": "code",
   "execution_count": 3,
   "metadata": {},
   "outputs": [],
   "source": [
    "spark1 = SparkSession.builder.appName('reco_sys_1').getOrCreate()"
   ]
  },
  {
   "cell_type": "code",
   "execution_count": 4,
   "metadata": {},
   "outputs": [],
   "source": [
    "sdf_mov = spark1.read.csv('Recommender_Systems/movielens_ratings.csv', inferSchema=True, header=True)"
   ]
  },
  {
   "cell_type": "code",
   "execution_count": 5,
   "metadata": {},
   "outputs": [
    {
     "name": "stdout",
     "output_type": "stream",
     "text": [
      "+-------+------------------+------------------+------------------+\n",
      "|summary|           movieId|            rating|            userId|\n",
      "+-------+------------------+------------------+------------------+\n",
      "|  count|              1501|              1501|              1501|\n",
      "|   mean| 49.40572951365756|1.7741505662891406|14.383744170552964|\n",
      "| stddev|28.937034065088994| 1.187276166124803| 8.591040424293272|\n",
      "|    min|                 0|               1.0|                 0|\n",
      "|    max|                99|               5.0|                29|\n",
      "+-------+------------------+------------------+------------------+\n",
      "\n",
      "root\n",
      " |-- movieId: integer (nullable = true)\n",
      " |-- rating: double (nullable = true)\n",
      " |-- userId: integer (nullable = true)\n",
      "\n"
     ]
    }
   ],
   "source": [
    "sdf_mov.describe().show()\n",
    "sdf_mov.printSchema()"
   ]
  },
  {
   "cell_type": "code",
   "execution_count": 6,
   "metadata": {},
   "outputs": [],
   "source": [
    "(train_data, test_data) = sdf_mov.randomSplit([0.7,0.3])"
   ]
  },
  {
   "cell_type": "code",
   "execution_count": 7,
   "metadata": {},
   "outputs": [],
   "source": [
    "from pyspark.ml.recommendation import ALS"
   ]
  },
  {
   "cell_type": "code",
   "execution_count": 8,
   "metadata": {},
   "outputs": [],
   "source": [
    "als_model = ALS(maxIter=10, regParam=0.1, userCol='userId', itemCol='movieId', ratingCol='rating')"
   ]
  },
  {
   "cell_type": "code",
   "execution_count": 9,
   "metadata": {},
   "outputs": [],
   "source": [
    "fitted_model = als_model.fit(train_data)"
   ]
  },
  {
   "cell_type": "markdown",
   "metadata": {},
   "source": [
    "###### Now Evaluate the model performance by predicting on test _data and comparing the predictions against the rating column"
   ]
  },
  {
   "cell_type": "code",
   "execution_count": 10,
   "metadata": {},
   "outputs": [],
   "source": [
    "test_predictions = fitted_model.transform(test_data)"
   ]
  },
  {
   "cell_type": "code",
   "execution_count": 11,
   "metadata": {},
   "outputs": [
    {
     "name": "stdout",
     "output_type": "stream",
     "text": [
      "+-------+------+------+----------+\n",
      "|movieId|rating|userId|prediction|\n",
      "+-------+------+------+----------+\n",
      "|     31|   4.0|    12|0.45356953|\n",
      "|     31|   1.0|     5|0.54007745|\n",
      "|     31|   1.0|    19| 0.7227872|\n",
      "|     31|   3.0|     7| 1.9319875|\n",
      "|     31|   2.0|    25| 1.1689903|\n",
      "|     31|   1.0|    24| 1.8058934|\n",
      "|     31|   1.0|    29| 0.6315647|\n",
      "|     31|   1.0|     0| 0.9767021|\n",
      "|     85|   1.0|    28| 0.6391043|\n",
      "|     85|   2.0|    20| 1.5787038|\n",
      "|     85|   1.0|     5| 1.0694221|\n",
      "|     85|   1.0|    23| 1.0222214|\n",
      "|     65|   2.0|     3|  0.630873|\n",
      "|     65|   1.0|    19| 1.1779414|\n",
      "|     65|   5.0|    23| 1.6813419|\n",
      "|     53|   2.0|    19| 2.7780185|\n",
      "|     53|   1.0|     9| 2.6278894|\n",
      "|     53|   1.0|    23| 1.1236882|\n",
      "|     53|   1.0|    25| 0.7711124|\n",
      "|     78|   1.0|    12|0.89054024|\n",
      "+-------+------+------+----------+\n",
      "only showing top 20 rows\n",
      "\n"
     ]
    }
   ],
   "source": [
    "test_predictions.show()"
   ]
  },
  {
   "cell_type": "markdown",
   "metadata": {},
   "source": [
    "<b>Cross validate the test predictions using an evaluator</b>"
   ]
  },
  {
   "cell_type": "code",
   "execution_count": 12,
   "metadata": {},
   "outputs": [],
   "source": [
    "from pyspark.ml.evaluation import RegressionEvaluator"
   ]
  },
  {
   "cell_type": "code",
   "execution_count": 13,
   "metadata": {},
   "outputs": [],
   "source": [
    "eval = RegressionEvaluator( predictionCol='prediction', labelCol='rating', metricName='rmse')"
   ]
  },
  {
   "cell_type": "code",
   "execution_count": 14,
   "metadata": {},
   "outputs": [
    {
     "name": "stdout",
     "output_type": "stream",
     "text": [
      "\u001b[4m\u001b[1mRoot-mean-square-rror == 1.1005676909291717\u001b[0m\u001b[0m\n"
     ]
    }
   ],
   "source": [
    "rmse = eval.evaluate(test_predictions)\n",
    "printUnderlined('Root-mean-square-rror == '+str(rmse))"
   ]
  },
  {
   "cell_type": "code",
   "execution_count": 15,
   "metadata": {},
   "outputs": [
    {
     "data": {
      "text/plain": [
       "['movieId', 'rating', 'userId']"
      ]
     },
     "execution_count": 15,
     "metadata": {},
     "output_type": "execute_result"
    },
    {
     "data": {
      "text/plain": [
       "DataFrame[movieId: int, rating: double, userId: int]"
      ]
     },
     "execution_count": 15,
     "metadata": {},
     "output_type": "execute_result"
    }
   ],
   "source": [
    "test_data.columns\n",
    "test_data"
   ]
  },
  {
   "cell_type": "markdown",
   "metadata": {},
   "source": [
    "###### Creating unlabeled data by dropping label i.e. 'rating' field for a specific user so that we can apply our model on this unlabled datato make predictions"
   ]
  },
  {
   "cell_type": "code",
   "execution_count": 16,
   "metadata": {},
   "outputs": [],
   "source": [
    "user_11 = test_data.filter(test_data['userId']==11).select('movieId', 'userId')"
   ]
  },
  {
   "cell_type": "code",
   "execution_count": 17,
   "metadata": {},
   "outputs": [
    {
     "name": "stdout",
     "output_type": "stream",
     "text": [
      "+-------+------+\n",
      "|movieId|userId|\n",
      "+-------+------+\n",
      "|     16|    11|\n",
      "|     18|    11|\n",
      "|     21|    11|\n",
      "|     25|    11|\n",
      "|     38|    11|\n",
      "|     39|    11|\n",
      "|     59|    11|\n",
      "|     62|    11|\n",
      "|     64|    11|\n",
      "|     66|    11|\n",
      "|     99|    11|\n",
      "+-------+------+\n",
      "\n"
     ]
    }
   ],
   "source": [
    "user_11.show()"
   ]
  },
  {
   "cell_type": "code",
   "execution_count": 18,
   "metadata": {},
   "outputs": [],
   "source": [
    "user11_recommendations = fitted_model.transform(user_11).orderBy('prediction')"
   ]
  },
  {
   "cell_type": "code",
   "execution_count": 19,
   "metadata": {},
   "outputs": [
    {
     "name": "stdout",
     "output_type": "stream",
     "text": [
      "+-------+------+----------+\n",
      "|movieId|userId|prediction|\n",
      "+-------+------+----------+\n",
      "|     18|    11| 3.6775835|\n",
      "|     66|    11| 3.1345103|\n",
      "|     16|    11| 2.8632846|\n",
      "|     64|    11| 2.7695196|\n",
      "|     62|    11| 1.9401884|\n",
      "|     38|    11| 1.5345746|\n",
      "|     21|    11| 1.3006377|\n",
      "|     39|    11| 1.2993197|\n",
      "|     99|    11| 1.0326141|\n",
      "|     59|    11| 0.6672759|\n",
      "|     25|    11|0.30686456|\n",
      "+-------+------+----------+\n",
      "\n"
     ]
    }
   ],
   "source": [
    "user11_recommendations.orderBy('prediction', ascending=False).show()"
   ]
  },
  {
   "cell_type": "markdown",
   "metadata": {},
   "source": [
    "###### The order of movie suggestion to the user (userid=11)  is in this order, first movie with movieid 18, then movie  66 and them movie 16"
   ]
  },
  {
   "cell_type": "code",
   "execution_count": null,
   "metadata": {},
   "outputs": [],
   "source": []
  }
 ],
 "metadata": {
  "kernelspec": {
   "display_name": "Python 3",
   "language": "python",
   "name": "python3"
  },
  "language_info": {
   "codemirror_mode": {
    "name": "ipython",
    "version": 3
   },
   "file_extension": ".py",
   "mimetype": "text/x-python",
   "name": "python",
   "nbconvert_exporter": "python",
   "pygments_lexer": "ipython3",
   "version": "3.7.4"
  }
 },
 "nbformat": 4,
 "nbformat_minor": 2
}
