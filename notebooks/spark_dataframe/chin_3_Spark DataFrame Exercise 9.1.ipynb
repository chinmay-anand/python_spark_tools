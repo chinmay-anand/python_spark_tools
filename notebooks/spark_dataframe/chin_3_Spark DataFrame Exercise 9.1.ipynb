{
 "cells": [
  {
   "cell_type": "markdown",
   "metadata": {},
   "source": [
    "#### SOME INTERESTING SITES ON Spark & Kafka"
   ]
  },
  {
   "cell_type": "markdown",
   "metadata": {},
   "source": [
    "SPARK\n",
    "* https://sparkbyexamples.com/\n",
    "* https://databricks.com/blog/2015/07/15/introducing-window-functions-in-spark-sql.html\n",
    "* https://sparkbyexamples.com/spark/spark-sql-window-functions/\n",
    "* https://spark.apache.org/\n",
    "* https://spark.apache.org/docs/1.6.2/api/java/org/apache/spark/sql/GroupedData.html\n",
    "* https://hendra-herviawan.github.io/pyspark-groupby-and-aggregate-functions.html\n",
    "* https://mode.com/python-tutorial/pandas-groupby-and-python-lambda-functions/\n",
    "* https://stackoverflow.com/questions/41771327/spark-dataframe-groupby-multiple-times\n",
    "* https://pandas.pydata.org/docs/\n",
    "\n",
    "KAFKA\n",
    "* https://timber.io/blog/hello-world-in-kafka-using-python/\n",
    "* https://towardsdatascience.com/getting-started-with-apache-kafka-in-python-604b3250aa05\n",
    "* https://towardsdatascience.com/kafka-python-explained-in-10-lines-of-code-800e3e07dad1\n",
    "* https://towardsdatascience.com/kafka-python-explained-in-10-lines-of-code-800e3e07dad1"
   ]
  },
  {
   "cell_type": "code",
   "execution_count": null,
   "metadata": {},
   "outputs": [],
   "source": []
  },
  {
   "cell_type": "code",
   "execution_count": null,
   "metadata": {},
   "outputs": [],
   "source": [
    "## Enable the shell to print multiple results (instead of only the last result)\n",
    "\n",
    "from IPython.core.interactiveshell import InteractiveShell\n",
    "InteractiveShell.ast_node_interactivity = \"all\""
   ]
  },
  {
   "cell_type": "markdown",
   "metadata": {},
   "source": [
    "###### Standard Imports for Spark\n",
    "* from pyspark.sql import SparkSession   ### Starting point for Spark - used to get the <b>spark session instance</b> using builder pattern\n",
    "* from pyspark.sql.types import StructField, IntegerType, StringType, StructType   ### For using <b>custom json schema</b>\n",
    "* from pyspark.sql.functions import concat, countDistinct, mean, avg, stddev       ### For using <b>aggregate groupby functions</b> with Spark DataFrames\n",
    "* from pyspark.sql.functions import col ### Returns a <b>column with name</b> specified by the parament\n",
    "* from pyspark.sql.functions import date_format, year,month,dayofmonth,hour,dayofweek,dayofyear,weekofyear,format_number   ### For handling <b>Date and Timestamp</b>\n",
    "* from .defs.Chinmay_Utilities import getCallLogXmlFromSuperbackup, getSparkDFfromPandasDF, getJsonFromSparkDF, printTextFile, getPandasDFfromSparkDF  ### My personal <b>utilities from another ipynb</b> jupyter notebook"
   ]
  },
  {
   "cell_type": "markdown",
   "metadata": {},
   "source": [
    "###### Import modules form another ipynb (jupuyter notebook written by me"
   ]
  },
  {
   "cell_type": "code",
   "execution_count": null,
   "metadata": {},
   "outputs": [],
   "source": [
    "import ipynb.fs  # Boilerplate required\n",
    "\n",
    "# Do a full import\n",
    "# from .full.Chinmay_Utilities import foo\n",
    "\n",
    "# Do a definitions-only import\n",
    "from .defs.Chinmay_Utilities import printTextFile, printHighlighted, printUnderlined, printTextFile, getMaskedSparkDF\n",
    "\n",
    "# We can \"import ipynb.fs.defs.Chinmay_Utilities\" instead of two imports \"import ipynb.fs\" followed by \".defs.Chinmay_Utilities\""
   ]
  },
  {
   "cell_type": "markdown",
   "metadata": {},
   "source": [
    "###### All Spark Imports"
   ]
  },
  {
   "cell_type": "code",
   "execution_count": null,
   "metadata": {},
   "outputs": [],
   "source": [
    "from pyspark.sql import SparkSession   ### Starting point for Spark - used to get the <b>spark session instance</b> using builder pattern\n",
    "from pyspark.sql.types import StructField, IntegerType, StringType, StructType   ### For using <b>custom json schema</b>\n",
    "from pyspark.sql.functions import concat, countDistinct, mean, avg, stddev, col    ### For using <b>aggregate groupby functions</b> with Spark DataFrames\n",
    "from pyspark.sql.functions import date_format, year,month,dayofmonth,hour,dayofweek,dayofyear,weekofyear,format_number   ### For handling <b>Date and Timestamp</b>"
   ]
  },
  {
   "cell_type": "code",
   "execution_count": null,
   "metadata": {},
   "outputs": [],
   "source": []
  },
  {
   "cell_type": "markdown",
   "metadata": {},
   "source": [
    "### Temporary OS Commands"
   ]
  },
  {
   "cell_type": "code",
   "execution_count": null,
   "metadata": {},
   "outputs": [],
   "source": [
    "!explorer ."
   ]
  },
  {
   "cell_type": "code",
   "execution_count": null,
   "metadata": {},
   "outputs": [],
   "source": []
  },
  {
   "cell_type": "markdown",
   "metadata": {},
   "source": [
    "### BELOW ARE THE EXERCISES FROM Udemy ON Spark DataFrames"
   ]
  },
  {
   "cell_type": "markdown",
   "metadata": {},
   "source": [
    "-----------------------------------"
   ]
  },
  {
   "cell_type": "markdown",
   "metadata": {},
   "source": [
    "# Spark DataFrames Project Exercise "
   ]
  },
  {
   "cell_type": "markdown",
   "metadata": {},
   "source": [
    "Let's get some quick practice with your new Spark DataFrame skills, you will be asked some basic questions about some stock market data, in this case Walmart Stock from the years 2012-2017. This exercise will just ask a bunch of questions, unlike the future machine learning exercises, which will be a little looser and be in the form of \"Consulting Projects\", but more on that later!\n",
    "\n",
    "For now, just answer the questions and complete the tasks below."
   ]
  },
  {
   "cell_type": "markdown",
   "metadata": {},
   "source": [
    "#### Use the walmart_stock.csv file to Answer and complete the  tasks below!"
   ]
  },
  {
   "cell_type": "markdown",
   "metadata": {},
   "source": [
    "#### Start a simple Spark Session"
   ]
  },
  {
   "cell_type": "code",
   "execution_count": null,
   "metadata": {},
   "outputs": [],
   "source": [
    "from pyspark.sql import SparkSession\n",
    "spark1 = SparkSession.builder.appName(\"chin_exercise\").getOrCreate()"
   ]
  },
  {
   "cell_type": "markdown",
   "metadata": {},
   "source": [
    "#### Load the Walmart Stock CSV File, have Spark infer the data types."
   ]
  },
  {
   "cell_type": "code",
   "execution_count": null,
   "metadata": {},
   "outputs": [],
   "source": [
    "sdf_walmart = spark1.read.csv(\"test_data/walmart_stock.csv\", inferSchema=True, header=True                              )\n",
    "printTextFile(\"test_data/walmart_stock.csv\")"
   ]
  },
  {
   "cell_type": "markdown",
   "metadata": {},
   "source": [
    "#### What are the column names?"
   ]
  },
  {
   "cell_type": "code",
   "execution_count": null,
   "metadata": {},
   "outputs": [],
   "source": [
    "sdf_walmart.columns"
   ]
  },
  {
   "cell_type": "markdown",
   "metadata": {},
   "source": [
    "#### What does the Schema look like?"
   ]
  },
  {
   "cell_type": "code",
   "execution_count": null,
   "metadata": {},
   "outputs": [],
   "source": [
    "sdf_walmart.printSchema()"
   ]
  },
  {
   "cell_type": "markdown",
   "metadata": {},
   "source": [
    "#### Print out the first 5 columns."
   ]
  },
  {
   "cell_type": "code",
   "execution_count": null,
   "metadata": {},
   "outputs": [],
   "source": [
    "# sdf_walmart.head(5)\n",
    "for row in sdf_walmart.head(5):\n",
    "    print(row)\n",
    "    print(\"\\n\")"
   ]
  },
  {
   "cell_type": "code",
   "execution_count": null,
   "metadata": {},
   "outputs": [],
   "source": []
  },
  {
   "cell_type": "markdown",
   "metadata": {},
   "source": [
    "#### Use describe() to learn about the DataFrame."
   ]
  },
  {
   "cell_type": "code",
   "execution_count": null,
   "metadata": {},
   "outputs": [],
   "source": []
  },
  {
   "cell_type": "code",
   "execution_count": null,
   "metadata": {},
   "outputs": [],
   "source": [
    "sdf_walmart_desc = sdf_walmart.describe()\n",
    "sdf_walmart_desc.printSchema()\n",
    "sdf_walmart_desc.show()"
   ]
  },
  {
   "cell_type": "code",
   "execution_count": null,
   "metadata": {},
   "outputs": [],
   "source": []
  },
  {
   "cell_type": "markdown",
   "metadata": {},
   "source": [
    "## Bonus Question!\n",
    "#### There are too many decimal places for mean and stddev in the describe() dataframe. Format the numbers to just show up to two decimal places. Pay careful attention to the datatypes that .describe() returns, we didn't cover how to do this exact formatting, but we covered something very similar. [Check this link for a hint](http://spark.apache.org/docs/latest/api/python/pyspark.sql.html#pyspark.sql.Column.cast)\n",
    "\n",
    "If you get stuck on this, don't worry, just view the solutions."
   ]
  },
  {
   "cell_type": "code",
   "execution_count": null,
   "metadata": {},
   "outputs": [],
   "source": []
  },
  {
   "cell_type": "code",
   "execution_count": null,
   "metadata": {},
   "outputs": [],
   "source": [
    "sdf_walmart\n",
    "sdf_walmart_desc"
   ]
  },
  {
   "cell_type": "code",
   "execution_count": null,
   "metadata": {},
   "outputs": [],
   "source": [
    "sdf_walmart_desc = sdf_walmart_desc.withColumnRenamed('Adj Close', 'AdjClose')"
   ]
  },
  {
   "cell_type": "code",
   "execution_count": null,
   "metadata": {},
   "outputs": [],
   "source": [
    "sdf_walmart_desc.printSchema()\n",
    "sdf_walmart_desc.show()\n",
    "sdf_walmart_desc.columns"
   ]
  },
  {
   "cell_type": "code",
   "execution_count": null,
   "metadata": {},
   "outputs": [],
   "source": [
    "sdf_walmart_desc2 = sdf_walmart_desc2.selectExpr(\n",
    "    \"summary\"\n",
    "    , \"cast(Open as double) Open\"\n",
    "    , \"cast(High as double) High\"\n",
    "    , \"cast(Low as double) Low\"\n",
    "    , \"cast(Close as double) Close\"\n",
    "    , \"cast(Volume as int) Volume\"\n",
    "    , \"cast(AdjClose as double) AdjClose\"\n",
    ")"
   ]
  },
  {
   "cell_type": "code",
   "execution_count": null,
   "metadata": {},
   "outputs": [],
   "source": [
    "sdf_walmart_desc2.printSchema()"
   ]
  },
  {
   "cell_type": "code",
   "execution_count": null,
   "metadata": {},
   "outputs": [],
   "source": [
    "sdf_walmart_desc3 =  sdf_walmart_desc2.select('summary',format_number('Open', 2).alias('Open'), format_number('High', 2).alias('High'), format_number('Low', 2).alias('Low'), \\\n",
    "         format_number('Close', 2).alias('Close'), format_number('AdjClose', 2).alias('Adj Close'), 'Volume' )\n",
    "\n",
    "sdf_walmart_desc3.show()"
   ]
  },
  {
   "cell_type": "code",
   "execution_count": null,
   "metadata": {},
   "outputs": [],
   "source": []
  },
  {
   "cell_type": "code",
   "execution_count": null,
   "metadata": {},
   "outputs": [],
   "source": [
    "printHighlighted('Another way to do the same using \".cast\" on a column')\n",
    "sdf_walmart_desc = sdf_walmart.describe()\n",
    "sdf_walmart_desc.select(\n",
    "    sdf_walmart_desc['summary']\n",
    "    , format_number(sdf_walmart_desc['Open'].cast('float'),2).alias('Open')\n",
    "    , format_number(sdf_walmart_desc['High'].cast('float'),2).alias('High')\n",
    "    , format_number(sdf_walmart_desc['Low'].cast('float'),2).alias('Low')\n",
    "    , format_number(sdf_walmart_desc['Close'].cast('float'),2).alias('Close')\n",
    "    , format_number(sdf_walmart_desc['Adj Close'].cast('float'),2).alias('Adj Close')\n",
    "    , sdf_walmart_desc['Volume'].cast('int').alias('Volume')\n",
    ").show()"
   ]
  },
  {
   "cell_type": "code",
   "execution_count": null,
   "metadata": {},
   "outputs": [],
   "source": []
  },
  {
   "cell_type": "code",
   "execution_count": null,
   "metadata": {},
   "outputs": [],
   "source": []
  },
  {
   "cell_type": "markdown",
   "metadata": {},
   "source": [
    "#### Create a new dataframe with a column called HV Ratio that is the ratio of the High Price versus volume of stock traded for a day."
   ]
  },
  {
   "cell_type": "code",
   "execution_count": null,
   "metadata": {},
   "outputs": [],
   "source": [
    "sdf_walmart.withColumn('HV Ratio', sdf_walmart['High']/sdf_walmart['Volume']).select('HV Ratio').show()"
   ]
  },
  {
   "cell_type": "code",
   "execution_count": null,
   "metadata": {},
   "outputs": [],
   "source": []
  },
  {
   "cell_type": "markdown",
   "metadata": {},
   "source": [
    "#### What day had the Peak High in Price?"
   ]
  },
  {
   "cell_type": "code",
   "execution_count": null,
   "metadata": {},
   "outputs": [],
   "source": [
    "max_high = sdf_walmart.agg({'High':'max'}).collect()[0][0]\n",
    "sdf_walmart.where(sdf_walmart['High']==max_high).collect()[0][0]"
   ]
  },
  {
   "cell_type": "code",
   "execution_count": null,
   "metadata": {},
   "outputs": [],
   "source": [
    "printHighlighted(\"Peak one is the first element on descending order of 'High' \")\n",
    "sdf_walmart.orderBy(sdf_walmart['High'].desc()).select('Date').head(1)[0][0]"
   ]
  },
  {
   "cell_type": "code",
   "execution_count": null,
   "metadata": {},
   "outputs": [],
   "source": []
  },
  {
   "cell_type": "markdown",
   "metadata": {},
   "source": [
    "#### What is the mean of the Close column?"
   ]
  },
  {
   "cell_type": "code",
   "execution_count": null,
   "metadata": {},
   "outputs": [],
   "source": [
    "#sdf_walmart.agg({'Close':'mean'}).collect()[0][0]\n",
    "sdf_walmart.select(mean('Close')).show()"
   ]
  },
  {
   "cell_type": "code",
   "execution_count": null,
   "metadata": {},
   "outputs": [],
   "source": []
  },
  {
   "cell_type": "markdown",
   "metadata": {},
   "source": [
    "#### What is the max and min of the Volume column?"
   ]
  },
  {
   "cell_type": "code",
   "execution_count": null,
   "metadata": {},
   "outputs": [],
   "source": [
    "from pyspark.sql.functions import max, min\n",
    "sdf_walmart.select(max('Volume'), min('Volume')).show()"
   ]
  },
  {
   "cell_type": "code",
   "execution_count": null,
   "metadata": {},
   "outputs": [],
   "source": []
  },
  {
   "cell_type": "markdown",
   "metadata": {},
   "source": [
    "#### How many days was the Close lower than 60 dollars?"
   ]
  },
  {
   "cell_type": "code",
   "execution_count": null,
   "metadata": {},
   "outputs": [],
   "source": [
    "printHighlighted('Finding with where clause and agg()')\n",
    "sdf_walmart.where(sdf_walmart['Close']<60).agg({'Close':'count'}).collect()[0][0]\n",
    "printHighlighted('Finding with filter()')\n",
    "sdf_walmart.filter(sdf_walmart['Close']<60).count()\n",
    "\n",
    "printHighlighted('Finding with filter() and count() function to get the reult as a DataFrame')\n",
    "from pyspark.sql.functions import count\n",
    "sdf_walmart.filter(sdf_walmart['Close']<60).select(count('Close')).show() "
   ]
  },
  {
   "cell_type": "code",
   "execution_count": null,
   "metadata": {},
   "outputs": [],
   "source": []
  },
  {
   "cell_type": "markdown",
   "metadata": {},
   "source": [
    "#### What percentage of the time was the High greater than 80 dollars ?\n",
    "#### In other words, (Number of Days High>80)/(Total Days in the dataset)"
   ]
  },
  {
   "cell_type": "code",
   "execution_count": null,
   "metadata": {},
   "outputs": [],
   "source": [
    "printHighlighted('Using \"where\", \"agg\", \"collect\"')\n",
    "sdf_walmart.where(sdf_walmart['High']>80).agg({'High':'count'}).collect()[0][0]/sdf_walmart.agg({'High':'count'}).collect()[0][0]*100\n",
    "printHighlighted('Using filter(), count()')\n",
    "sdf_walmart.filter(sdf_walmart['High']>80).count()/sdf_walmart.count()*100"
   ]
  },
  {
   "cell_type": "code",
   "execution_count": null,
   "metadata": {},
   "outputs": [],
   "source": []
  },
  {
   "cell_type": "markdown",
   "metadata": {},
   "source": [
    "#### What is the Pearson correlation between High and Volume?\n",
    "#### [Hint](http://spark.apache.org/docs/latest/api/python/pyspark.sql.html#pyspark.sql.DataFrameStatFunctions.corr)"
   ]
  },
  {
   "cell_type": "code",
   "execution_count": null,
   "metadata": {},
   "outputs": [],
   "source": [
    "# f_walmart.corr('High','Volume', method=\"pearson\")\n",
    "from pyspark.sql.functions import corr\n",
    "printHighlighted('Using column')\n",
    "sdf_walmart.select(corr(sdf_walmart['High'], sdf_walmart['Volume'])).show()\n",
    "printHighlighted('Using column name')\n",
    "sdf_walmart.select(corr('High', 'Volume')).show()"
   ]
  },
  {
   "cell_type": "code",
   "execution_count": null,
   "metadata": {},
   "outputs": [],
   "source": []
  },
  {
   "cell_type": "markdown",
   "metadata": {},
   "source": [
    "#### What is the max High per year?"
   ]
  },
  {
   "cell_type": "code",
   "execution_count": null,
   "metadata": {},
   "outputs": [],
   "source": [
    "printHighlighted('Using date_format()')\n",
    "sdf_walmart.withColumn('Year', date_format('Date', 'YYYY')).groupBy('Year').max('High').show()\n",
    "printHighlighted('Using year()')\n",
    "sdf_walmart.withColumn('Year', year('Date')).groupBy('Year').max('High').show()"
   ]
  },
  {
   "cell_type": "code",
   "execution_count": null,
   "metadata": {},
   "outputs": [],
   "source": []
  },
  {
   "cell_type": "markdown",
   "metadata": {},
   "source": [
    "#### What is the average Close for each Calendar Month?\n",
    "#### In other words, across all the years, what is the average Close price for Jan,Feb, Mar, etc... Your result will have a value for each of these months. "
   ]
  },
  {
   "cell_type": "code",
   "execution_count": null,
   "metadata": {},
   "outputs": [],
   "source": [
    "sdf_walmart.withColumn('Month', month('Date')).groupBy('Month').avg('Close').orderBy('Month').show()"
   ]
  },
  {
   "cell_type": "code",
   "execution_count": null,
   "metadata": {},
   "outputs": [],
   "source": []
  },
  {
   "cell_type": "code",
   "execution_count": null,
   "metadata": {},
   "outputs": [],
   "source": []
  },
  {
   "cell_type": "code",
   "execution_count": null,
   "metadata": {},
   "outputs": [],
   "source": []
  },
  {
   "cell_type": "code",
   "execution_count": null,
   "metadata": {},
   "outputs": [],
   "source": [
    "from pyspark.sql.functions import lit\n",
    "printHighlighted('Using sdf.withColumn() to add or replace a column and lit() function to fill the column with masked data')\n",
    "printHighlighted('Using a for loop and a withColumn() to mask a list of multiple columns of a DataFrame')\n",
    "\n",
    "cols_to_mask = ['Close', 'High', 'Volume']\n",
    "sdf_walmart_masked = sdf_walmart\n",
    "for cn in cols_to_mask:\n",
    "    sdf_walmart_masked =  sdf_walmart_masked.withColumn(cn, lit('*** masked ***'))\n",
    "\n",
    "sdf_walmart_masked.show()\n",
    "sdf_walmart.show()\n"
   ]
  },
  {
   "cell_type": "code",
   "execution_count": null,
   "metadata": {},
   "outputs": [],
   "source": []
  },
  {
   "cell_type": "code",
   "execution_count": null,
   "metadata": {},
   "outputs": [],
   "source": []
  },
  {
   "cell_type": "markdown",
   "metadata": {},
   "source": [
    "# Great Job!"
   ]
  },
  {
   "cell_type": "code",
   "execution_count": null,
   "metadata": {},
   "outputs": [],
   "source": []
  },
  {
   "cell_type": "code",
   "execution_count": null,
   "metadata": {},
   "outputs": [],
   "source": [
    "from pyspark.sql import SparkSession\n",
    "sparkSessnStock = SparkSession.builder.appName(\"chin_date\").getOrCreate()\n",
    "my_csv_app_stocks = \"test_data/appl_stock.csv\"\n",
    "sdf_stock = sparkSessnStock.read.csv(my_csv_app_stocks, header=True, inferSchema=True)"
   ]
  },
  {
   "cell_type": "code",
   "execution_count": null,
   "metadata": {},
   "outputs": [],
   "source": [
    "from pyspark.sql.functions import year, month, sum, avg\n",
    "sdf_stock2 = sdf_stock.withColumn('Year', year('Date')).withColumn('Month', month('Date'))\n",
    "sdf_stock2.columns"
   ]
  },
  {
   "cell_type": "code",
   "execution_count": null,
   "metadata": {},
   "outputs": [],
   "source": [
    "grpYr = sdf_stock2.groupBy('Year')"
   ]
  },
  {
   "cell_type": "code",
   "execution_count": null,
   "metadata": {},
   "outputs": [],
   "source": [
    "grpYr.agg({'Open':'max','Close':'min'}).show()"
   ]
  },
  {
   "cell_type": "code",
   "execution_count": null,
   "metadata": {},
   "outputs": [],
   "source": []
  }
 ],
 "metadata": {
  "kernelspec": {
   "display_name": "Python 3",
   "language": "python",
   "name": "python3"
  },
  "language_info": {
   "codemirror_mode": {
    "name": "ipython",
    "version": 3
   },
   "file_extension": ".py",
   "mimetype": "text/x-python",
   "name": "python",
   "nbconvert_exporter": "python",
   "pygments_lexer": "ipython3",
   "version": "3.7.4"
  }
 },
 "nbformat": 4,
 "nbformat_minor": 2
}
